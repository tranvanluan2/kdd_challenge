{
 "cells": [
  {
   "cell_type": "code",
   "execution_count": 1,
   "metadata": {},
   "outputs": [
    {
     "ename": "ImportError",
     "evalue": "libboost_system.so.1.58.0: cannot open shared object file: No such file or directory",
     "output_type": "error",
     "traceback": [
      "\u001b[0;31m---------------------------------------------------------------------------\u001b[0m",
      "\u001b[0;31mImportError\u001b[0m                               Traceback (most recent call last)",
      "\u001b[0;32m<ipython-input-1-84c7d5c07719>\u001b[0m in \u001b[0;36m<module>\u001b[0;34m\u001b[0m\n\u001b[0;32m----> 1\u001b[0;31m \u001b[0;32mimport\u001b[0m \u001b[0msimulator\u001b[0m\u001b[0;34m\u001b[0m\u001b[0;34m\u001b[0m\u001b[0m\n\u001b[0m\u001b[1;32m      2\u001b[0m \u001b[0;32mimport\u001b[0m \u001b[0mos\u001b[0m\u001b[0;34m\u001b[0m\u001b[0;34m\u001b[0m\u001b[0m\n\u001b[1;32m      3\u001b[0m \u001b[0;32mimport\u001b[0m \u001b[0mjson\u001b[0m\u001b[0;34m\u001b[0m\u001b[0;34m\u001b[0m\u001b[0m\n\u001b[1;32m      4\u001b[0m \u001b[0;34m\u001b[0m\u001b[0m\n\u001b[1;32m      5\u001b[0m \u001b[0mperiod\u001b[0m \u001b[0;34m=\u001b[0m \u001b[0;36m840\u001b[0m\u001b[0;34m\u001b[0m\u001b[0;34m\u001b[0m\u001b[0m\n",
      "\u001b[0;31mImportError\u001b[0m: libboost_system.so.1.58.0: cannot open shared object file: No such file or directory"
     ]
    }
   ],
   "source": [
    "import simulator\n",
    "import os\n",
    "import json\n",
    "\n",
    "period = 840\n",
    "\n",
    "engine = simulator.Engine(thread_num=1, write_mode=\"append\",specified_run_name=\"test\")\n",
    "\n",
    "engine.reset() # reset should be called right after the create of engine\n",
    "\n",
    "for i in range(period):\n",
    "    engine.next_step() # all data access/control APIs should be called after next_step()\n",
    "    print(engine.get_current_time())\n",
    "    print(engine.get_man_visited_history(1))\n",
    "    print(engine.get_man_infection_state(1))\n",
    "    print(engine.get_man_visited_history(1))\n",
    "    print(engine.get_region_infected_cnt(1))\n",
    "\n",
    "    engine.set_man_confine_days({1: 5}) # {manID: day}\n",
    "    engine.set_man_quarantine_days({2: 5}) # {manID: day}\n",
    "    engine.set_man_isolate_days({3: 5}) # {manID: day}\n",
    "    engine.set_man_to_treat({4: True}) # {manID: day}\n",
    "\n",
    "del engine"
   ]
  },
  {
   "cell_type": "code",
   "execution_count": null,
   "metadata": {},
   "outputs": [],
   "source": []
  }
 ],
 "metadata": {
  "kernelspec": {
   "display_name": "Python 3",
   "language": "python",
   "name": "python3"
  },
  "language_info": {
   "codemirror_mode": {
    "name": "ipython",
    "version": 3
   },
   "file_extension": ".py",
   "mimetype": "text/x-python",
   "name": "python",
   "nbconvert_exporter": "python",
   "pygments_lexer": "ipython3",
   "version": "3.6.9"
  }
 },
 "nbformat": 4,
 "nbformat_minor": 2
}
